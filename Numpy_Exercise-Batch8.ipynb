{
 "cells": [
  {
   "cell_type": "markdown",
   "metadata": {},
   "source": [
    "# Numpy Exercise  <img src = \"numpy1.png\">\n",
    "###### Authored by T.K.Senthil Kumar"
   ]
  },
  {
   "cell_type": "markdown",
   "metadata": {},
   "source": [
    "#### 1. Create a numpy array with the number of elements equals your age. The value of array elements is a random number between 10 to your age "
   ]
  },
  {
   "cell_type": "code",
   "execution_count": 17,
   "metadata": {},
   "outputs": [
    {
     "name": "stdout",
     "output_type": "stream",
     "text": [
      "[16 18 24 13 11 10 12 16 15 14 19 11 24 14 17 21 18 12 20 15 11 18 11 10\n",
      " 20]\n"
     ]
    }
   ],
   "source": [
    "import numpy as np\n",
    "npary=np.random.randint(10, 25,25)\n",
    "print(npary)"
   ]
  },
  {
   "cell_type": "markdown",
   "metadata": {},
   "source": [
    "#### 2. Create a numpy array between 1 to 50 with the span(space) of 2 and print the length of the array"
   ]
  },
  {
   "cell_type": "code",
   "execution_count": 2,
   "metadata": {},
   "outputs": [
    {
     "name": "stdout",
     "output_type": "stream",
     "text": [
      "Length of Array is:  25\n"
     ]
    }
   ],
   "source": [
    "npary1=np.arange(1,50,2)\n",
    "\n",
    "print(\"Length of Array is: \",len(npary1))\n"
   ]
  },
  {
   "cell_type": "markdown",
   "metadata": {},
   "source": [
    "#### 3. Create an equally spaced numpy array with 27 elements between 4 and 7 "
   ]
  },
  {
   "cell_type": "code",
   "execution_count": 3,
   "metadata": {},
   "outputs": [
    {
     "name": "stdout",
     "output_type": "stream",
     "text": [
      "[4.         4.11538462 4.23076923 4.34615385 4.46153846 4.57692308\n",
      " 4.69230769 4.80769231 4.92307692 5.03846154 5.15384615 5.26923077\n",
      " 5.38461538 5.5        5.61538462 5.73076923 5.84615385 5.96153846\n",
      " 6.07692308 6.19230769 6.30769231 6.42307692 6.53846154 6.65384615\n",
      " 6.76923077 6.88461538 7.        ]\n"
     ]
    }
   ],
   "source": [
    "npary2=np.linspace(4,7,27)\n",
    "print(npary2)"
   ]
  },
  {
   "cell_type": "markdown",
   "metadata": {},
   "source": [
    "#### 4. Create a matrix of size (5 x 4) with random numbers and round off the each elements by only 2 fractional points."
   ]
  },
  {
   "cell_type": "code",
   "execution_count": 4,
   "metadata": {},
   "outputs": [
    {
     "name": "stdout",
     "output_type": "stream",
     "text": [
      "the matrix is : [[0.93823026 0.57437963 0.35184633 0.41089162]\n",
      " [0.07552487 0.9539662  0.75367265 0.29932607]\n",
      " [0.6856748  0.20973973 0.92192529 0.40545293]\n",
      " [0.7317737  0.03630071 0.14543632 0.15714033]\n",
      " [0.65626564 0.21789447 0.72947498 0.38389179]]\n",
      "******************************************************\n",
      "the rounded matrix is:  [[0.94 0.57 0.35 0.41]\n",
      " [0.08 0.95 0.75 0.3 ]\n",
      " [0.69 0.21 0.92 0.41]\n",
      " [0.73 0.04 0.15 0.16]\n",
      " [0.66 0.22 0.73 0.38]]\n"
     ]
    }
   ],
   "source": [
    "x = np.random.random((5,4))\n",
    "print(\"the matrix is :\",x)\n",
    "round_matrix=np.round(x, 2)\n",
    "print(\"******************************************************\")\n",
    "print(\"the rounded matrix is: \",round_matrix)"
   ]
  },
  {
   "cell_type": "markdown",
   "metadata": {},
   "source": [
    "#### 5. Create a matrix of size (5x5) with random integers between 5 to 15"
   ]
  },
  {
   "cell_type": "code",
   "execution_count": 5,
   "metadata": {},
   "outputs": [
    {
     "data": {
      "text/plain": [
       "array([[ 9, 14, 12,  8, 14],\n",
       "       [10, 10, 12,  9,  8],\n",
       "       [ 6,  6, 10, 14,  9],\n",
       "       [10, 12,  6, 14,  6],\n",
       "       [12, 10,  5,  8, 12]])"
      ]
     },
     "execution_count": 5,
     "metadata": {},
     "output_type": "execute_result"
    }
   ],
   "source": [
    "m=np.random.randint(5,15,(5,5))\n",
    "m"
   ]
  },
  {
   "cell_type": "markdown",
   "metadata": {},
   "source": [
    "#### 6. Create the one dimensional array of zeros of random length below 20 with the data type int32"
   ]
  },
  {
   "cell_type": "code",
   "execution_count": 6,
   "metadata": {},
   "outputs": [
    {
     "name": "stdout",
     "output_type": "stream",
     "text": [
      "[0 0 0 0 0 0 0 0 0 0 0 0 0 0 0 0 0 0 0]\n"
     ]
    }
   ],
   "source": [
    "zero=np.zeros(19,dtype=int)\n",
    "print(zero)\n"
   ]
  },
  {
   "cell_type": "markdown",
   "metadata": {},
   "source": [
    "#### 7. Create a two dimensional array of ones of random row and column lengths with the data type of float32 "
   ]
  },
  {
   "cell_type": "code",
   "execution_count": 7,
   "metadata": {},
   "outputs": [
    {
     "name": "stdout",
     "output_type": "stream",
     "text": [
      "[[1. 1. 1.]\n",
      " [1. 1. 1.]\n",
      " [1. 1. 1.]]\n"
     ]
    }
   ],
   "source": [
    "one=np.ones([3,3])\n",
    "print(np.float32(one))\n",
    "\n",
    "\n"
   ]
  },
  {
   "cell_type": "markdown",
   "metadata": {},
   "source": [
    "#### 8. Create a matrix exactly as same as shown below and print its shape, type and dtype\n",
    "<img src = \"np_mat1.png\">"
   ]
  },
  {
   "cell_type": "markdown",
   "metadata": {},
   "source": [
    "#### 9. Access the center pixel of the matrix defined in the question no 8 ( Don't enter the row and column index explicitely)"
   ]
  },
  {
   "cell_type": "code",
   "execution_count": 8,
   "metadata": {},
   "outputs": [
    {
     "name": "stdout",
     "output_type": "stream",
     "text": [
      "[[ 9 25 50 34 45]\n",
      " [ 3 34 34 65  2]\n",
      " [ 5  7  3 76  3]\n",
      " [ 7  8  6 54  6]\n",
      " [23 12  8  5  8]]\n",
      "The center pixel of the given matrix is  3\n"
     ]
    },
    {
     "data": {
      "text/plain": [
       "numpy.ndarray"
      ]
     },
     "execution_count": 8,
     "metadata": {},
     "output_type": "execute_result"
    }
   ],
   "source": [
    "x = np.array([[9,25,50,34,45],[3,34,34,65,2],[5,7,3,76,3],[7,8,6,54,6],[23,12,8,5,8]])\n",
    "print(x)\n",
    "y=x.flatten()\n",
    "mid_value=y[int(len(y)/2)]\n",
    "print(\"The center pixel of the given matrix is \",mid_value)\n",
    "type(y)\n"
   ]
  },
  {
   "cell_type": "markdown",
   "metadata": {},
   "source": [
    "#### 10. Print the all the elements of 3rd row of the matrix"
   ]
  },
  {
   "cell_type": "code",
   "execution_count": 9,
   "metadata": {},
   "outputs": [
    {
     "name": "stdout",
     "output_type": "stream",
     "text": [
      "[ 5  7  3 76  3]\n"
     ]
    }
   ],
   "source": [
    "third_row=x[int(len(x)/2)]\n",
    "print(third_row)"
   ]
  },
  {
   "cell_type": "markdown",
   "metadata": {},
   "source": [
    "#### 11. Print the all the elements of 4th columns of the matrix"
   ]
  },
  {
   "cell_type": "code",
   "execution_count": 10,
   "metadata": {},
   "outputs": [
    {
     "name": "stdout",
     "output_type": "stream",
     "text": [
      "[34, 65, 76, 54, 5]\n"
     ]
    }
   ],
   "source": [
    "col_4=[row[3] for row in x]\n",
    "print(col_4)\n",
    "\n"
   ]
  },
  {
   "cell_type": "markdown",
   "metadata": {},
   "source": [
    "#### 12. Print the 4 corner pixels of the matrix"
   ]
  },
  {
   "cell_type": "code",
   "execution_count": 11,
   "metadata": {},
   "outputs": [
    {
     "name": "stdout",
     "output_type": "stream",
     "text": [
      "[9, 45, 23, 8]\n"
     ]
    }
   ],
   "source": [
    "n = len(x) #len of rows\n",
    "m = len(x[0]) # length of column\n",
    "corner=[x[0][0],x[0][m - 1],x[n - 1][0],x[n - 1][m - 1]]\n",
    "print(corner)\n",
    "\n"
   ]
  },
  {
   "cell_type": "markdown",
   "metadata": {},
   "source": [
    "#### 13. Create three matrix m1,m2,m3 with the elements grouped in the figure below\n",
    "<img src = \"np_mat2.png\">"
   ]
  },
  {
   "cell_type": "code",
   "execution_count": 12,
   "metadata": {},
   "outputs": [
    {
     "name": "stdout",
     "output_type": "stream",
     "text": [
      "Matrix 1 : [[50 34]\n",
      " [34 65]]\n",
      "Matrix 2 : [[ 7  8]\n",
      " [23 12]]\n",
      "Matrix 3 : [[ 3 76  3]\n",
      " [ 6 54  6]\n",
      " [ 8  5  8]]\n"
     ]
    }
   ],
   "source": [
    "m1 = x[:2, 2:4]\n",
    "print(\"Matrix 1 :\",m1)\n",
    "m2 = x[3:, :2]\n",
    "print(\"Matrix 2 :\",m2)\n",
    "m3 = x[2:, 2:]\n",
    "print(\"Matrix 3 :\",m3)"
   ]
  },
  {
   "cell_type": "markdown",
   "metadata": {},
   "source": [
    "#### 14. Reshape all the three matrix segmented in the above task in to three  1-dimensional vector."
   ]
  },
  {
   "cell_type": "code",
   "execution_count": 13,
   "metadata": {},
   "outputs": [
    {
     "name": "stdout",
     "output_type": "stream",
     "text": [
      "Reshaped M1:  [50 34 34 65]\n",
      "Reshaped M2:  [ 7  8 23 12]\n",
      "Reshaped M3:  [ 3 76  3  6 54  6  8  5  8]\n"
     ]
    }
   ],
   "source": [
    "reshaped_m1=m1.flatten()\n",
    "print(\"Reshaped M1: \",reshaped_m1)\n",
    "reshaped_m2=m2.flatten()\n",
    "print(\"Reshaped M2: \",reshaped_m2)\n",
    "reshaped_m3=m3.flatten()\n",
    "print(\"Reshaped M3: \",reshaped_m3)\n",
    "\n",
    "\n",
    "\n",
    "\n"
   ]
  },
  {
   "cell_type": "markdown",
   "metadata": {},
   "source": [
    "#### 15. Concatenate the matrix m1 and m2 in both vertical and horizontal direction"
   ]
  },
  {
   "cell_type": "code",
   "execution_count": 14,
   "metadata": {},
   "outputs": [
    {
     "name": "stdout",
     "output_type": "stream",
     "text": [
      "[[50 34]\n",
      " [34 65]\n",
      " [ 7  8]\n",
      " [23 12]]\n",
      "******************************************************\n",
      "[[50 34  7  8]\n",
      " [34 65 23 12]]\n"
     ]
    }
   ],
   "source": [
    "vertical_matrix=np.vstack((m1,m2))\n",
    "print(vertical_matrix)\n",
    "horizontal_matrix=np.hstack((m1,m2))\n",
    "print(\"******************************************************\")\n",
    "print(horizontal_matrix)\n",
    "\n",
    "\n"
   ]
  },
  {
   "cell_type": "markdown",
   "metadata": {},
   "source": [
    "#### 16. Add, Subtract, multiply, divide the matrixes m1 and m2"
   ]
  },
  {
   "cell_type": "code",
   "execution_count": 15,
   "metadata": {},
   "outputs": [
    {
     "name": "stdout",
     "output_type": "stream",
     "text": [
      "Addition of matrix :  [[57 42]\n",
      " [57 77]]\n",
      "Subraction of matrix :  [[43 26]\n",
      " [11 53]]\n",
      "multiplication of matrix :  [[350 272]\n",
      " [782 780]]\n",
      "division of matrix :  [[7.14285714 4.25      ]\n",
      " [1.47826087 5.41666667]]\n"
     ]
    }
   ],
   "source": [
    "add=m1+m2\n",
    "sub=m1-m2\n",
    "multiply=m1*m2\n",
    "divide=m1/m2\n",
    "print(\"Addition of matrix : \",add)\n",
    "print(\"Subraction of matrix : \",sub)\n",
    "print(\"multiplication of matrix : \",multiply)\n",
    "print(\"division of matrix : \",divide)\n",
    "\n"
   ]
  },
  {
   "cell_type": "markdown",
   "metadata": {},
   "source": [
    "#### 17. Add the m1 with m3 by removing the first row and last column of m3"
   ]
  },
  {
   "cell_type": "code",
   "execution_count": 16,
   "metadata": {},
   "outputs": [
    {
     "name": "stdout",
     "output_type": "stream",
     "text": [
      "Addition of matrix :  [[56 88]\n",
      " [42 70]]\n"
     ]
    }
   ],
   "source": [
    "rmd_m3=m3[1:, :2]\n",
    "sum_of_matrix=rmd_m3+m1\n",
    "print(\"Addition of matrix : \",sum_of_matrix)\n",
    "\n",
    "\n"
   ]
  },
  {
   "cell_type": "markdown",
   "metadata": {},
   "source": [
    "#### 18. Form the matrix m4 by concatenating (as a new row) the vector [me1, me2] with the matrix m1, where me1 and me2 are the mean values of each column on m1."
   ]
  },
  {
   "cell_type": "code",
   "execution_count": 17,
   "metadata": {},
   "outputs": [
    {
     "name": "stdout",
     "output_type": "stream",
     "text": [
      "[[50.  34. ]\n",
      " [34.  65. ]\n",
      " [42.  49.5]]\n"
     ]
    }
   ],
   "source": [
    "mean_m1=np.average(m1, axis=0)\n",
    "m4=np.vstack((m1,mean_m1))\n",
    "print(m4)\n",
    "\n",
    "\n"
   ]
  },
  {
   "cell_type": "markdown",
   "metadata": {},
   "source": [
    "#### 19. Perform the matrix multiplication between m3 and m4"
   ]
  },
  {
   "cell_type": "code",
   "execution_count": 18,
   "metadata": {},
   "outputs": [
    {
     "name": "stdout",
     "output_type": "stream",
     "text": [
      "matrix multiplication between m3 and m4 :  [[2860.  5190.5]\n",
      " [2388.  4011. ]\n",
      " [ 906.   993. ]]\n"
     ]
    }
   ],
   "source": [
    "matrix_multiplication=np.matmul(m3, m4)\n",
    "print(\"matrix multiplication between m3 and m4 : \",matrix_multiplication)\n",
    "\n",
    "\n"
   ]
  },
  {
   "cell_type": "markdown",
   "metadata": {},
   "source": [
    "#### 20. Compute the maximum and minimum value of mean, variance, standard deviation for each row of matrix created in question number 8."
   ]
  },
  {
   "cell_type": "code",
   "execution_count": 33,
   "metadata": {},
   "outputs": [
    {
     "name": "stdout",
     "output_type": "stream",
     "text": [
      "the mean is :  [32.6 27.6 18.8 16.2 11.2]\n",
      "the maximum mean is : 32.6\n",
      "the minimum mean is :  11.2\n",
      "the variance is :  [214.64 548.24 820.16 357.76  39.76]\n",
      "the maximum variance is : 820.1600000000001\n",
      "the minimum variance is :  39.760000000000005\n",
      "the standard deviation is :  [14.65059726 23.41452541 28.63843571 18.91454467  6.30555311]\n",
      "the maximum standard deviation is : 28.63843571147\n",
      "the minimum standard deviation is :  6.305553108173779\n"
     ]
    }
   ],
   "source": [
    "row_means = x.mean(axis=1)\n",
    "row_variance = x.var(axis=1)\n",
    "row_std = x.std(axis=1)\n",
    "print(\"the mean is : \",row_means)\n",
    "print(\"the maximum mean is :\",max(row_means))\n",
    "print(\"the minimum mean is : \",min(row_means))\n",
    "print(\"the variance is : \",row_variance)\n",
    "print(\"the maximum variance is :\",max(row_variance))\n",
    "print(\"the minimum variance is : \",min(row_variance))\n",
    "print(\"the standard deviation is : \",row_std)\n",
    "print(\"the maximum standard deviation is :\",max(row_std))\n",
    "print(\"the minimum standard deviation is : \",min(row_std))"
   ]
  },
  {
   "cell_type": "markdown",
   "metadata": {},
   "source": [
    "#### 21. Compute the average and strike rate for each player and sort it decending way (seperately for avg and strike rate)\n",
    "<img src = 'crick1.png'>"
   ]
  },
  {
   "cell_type": "code",
   "execution_count": 73,
   "metadata": {},
   "outputs": [
    {
     "name": "stdout",
     "output_type": "stream",
     "text": [
      "[[108.         142.85714286  45.45454545  83.33333333]\n",
      " [107.36842105  25.         120.          74.41860465]\n",
      " [ 33.33333333 110.          14.28571429  91.08910891]\n",
      " [207.40740741 200.         109.09090909 135.48387097]\n",
      " [ 50.          40.          61.11111111  40.74074074]]\n",
      "[[13.5  15.    2.5  16.25]\n",
      " [25.5   0.5  19.5   8.  ]\n",
      " [ 0.75 27.5   0.25 23.  ]\n",
      " [14.    1.5   3.   10.5 ]\n",
      " [ 3.    2.    5.5   2.75]]\n"
     ]
    },
    {
     "data": {
      "text/plain": [
       "array([[ 2.  ,  2.75,  3.  ,  5.5 ],\n",
       "       [ 1.5 ,  3.  , 10.5 , 14.  ],\n",
       "       [ 0.25,  0.75, 23.  , 27.5 ],\n",
       "       [ 0.5 ,  8.  , 19.5 , 25.5 ],\n",
       "       [ 2.5 , 13.5 , 15.  , 16.25]])"
      ]
     },
     "execution_count": 73,
     "metadata": {},
     "output_type": "execute_result"
    }
   ],
   "source": [
    "runs_scored=np.array([['msd',54,60,10,65],['kholi',102,2,78,32],['rohit',3,110,1,92],['rahul',56,6,12,42],['dhawan',12,8,22,11]])\n",
    "balls_faced=np.array([['msd',50,42,22,78],['kholi',95,8,65,43],['rohit',9,100,7,101],['rahul',27,3,11,31],['dhawan',24,20,36,27]])\n",
    "runs=runs_scored[:,1:]\n",
    "balls=balls_faced[:,1:]\n",
    "runs=runs.astype(int)\n",
    "balls=balls.astype(int)\n",
    "cccc=(runs/balls)*100\n",
    "print(strike_rate)\n",
    "avg=runs/4\n",
    "print(avg)\n",
    "sortedsr=np.sort(avg)[::-1]\n",
    "sortedsr\n"
   ]
  },
  {
   "cell_type": "markdown",
   "metadata": {},
   "source": [
    "#### 22. The students mark was recorded in a numpy array: marks = np.array([65,84,47,56,89,98,48,77,80,39]).  Cutoff for pass is 50 marks. Write the logic to print the number of students passed and failed. "
   ]
  },
  {
   "cell_type": "code",
   "execution_count": 138,
   "metadata": {},
   "outputs": [
    {
     "name": "stdout",
     "output_type": "stream",
     "text": [
      "total number of student is:  10\n",
      "the number of pass student is:  7\n",
      "the number of fail student is:  3\n",
      "total number of student is:  10\n"
     ]
    }
   ],
   "source": [
    "marks = np.array([65,84,47,56,89,98,48,77,80,39])\n",
    "pass_stdnt=marks[marks>50]\n",
    "fail_stdnt=marks[marks<50]\n",
    "print(\"total number of student is: \",len(marks))\n",
    "print(\"the number of pass student is: \",len(pass_stdnt))\n",
    "print(\"the number of fail student is: \",len(fail_stdnt))\n",
    "print(\"total number of student is: \",len(marks))"
   ]
  },
  {
   "cell_type": "markdown",
   "metadata": {},
   "source": [
    "#### 23. The class incharge decided to give a mercy mark of 5 for those who scored between 45 and 49. Also the bonus of 5 marks awarded to the students who scored more than 80. Print all the student marks and compute the increase in the pass percentage of class. Any score more than 100 must be recorded as only 100."
   ]
  },
  {
   "cell_type": "code",
   "execution_count": 143,
   "metadata": {},
   "outputs": [
    {
     "name": "stdout",
     "output_type": "stream",
     "text": [
      "Wall time: 0 ns\n",
      "Wall time: 0 ns\n",
      "[ 65  99  52  56 100 100  53  77  80  39]\n"
     ]
    }
   ],
   "source": [
    "ind=np.where((marks > 45) & (marks < 49))\n",
    "marks[ind]=marks[ind]+5\n",
    "ind1=np.where((marks >80))\n",
    "marks[ind1]=marks[ind1]+5\n",
    "ind2=np.where((marks>100))\n",
    "marks[ind2]=100\n",
    "print(marks)"
   ]
  },
  {
   "cell_type": "markdown",
   "metadata": {},
   "source": [
    "#### 24. Print the time taken for performing the following operation using list and numpy array\n",
    "####       (x(i)^2 +8) / y(i),   where x and y are real integers from 1 to 60000"
   ]
  },
  {
   "cell_type": "code",
   "execution_count": 32,
   "metadata": {},
   "outputs": [
    {
     "name": "stdout",
     "output_type": "stream",
     "text": [
      "Wall time: 55 ms\n",
      "The time taken for list is : 0.05601906776428223\n",
      "Wall time: 15.6 ms\n",
      "The time taken for numpy is : 0.01562952995300293\n"
     ]
    }
   ],
   "source": [
    "import time\n",
    "def lst():\n",
    "    x=list(range(1,60000))\n",
    "    y=list(range(1,60000))\n",
    "    res=[]\n",
    "    for i in range(len(x)):\n",
    "        res.append((((x[i]**2)+8)/y[i]))\n",
    "    #print(res)\n",
    "def npy():\n",
    "    x=np.array(range(1,60000))\n",
    "    y=np.array(range(1,60000))\n",
    "    res=((x**2)+8)/y\n",
    "    #print(res)\n",
    "start = time.time()\n",
    "%time lst()\n",
    "end = time.time()\n",
    "print(\"The time taken for list is :\", end-start)\n",
    "start1 = time.time()\n",
    "%time npy()\n",
    "end1 = time.time()\n",
    "print(\"The time taken for numpy is :\", end1-start1)  \n",
    "\n",
    "\n",
    "\n"
   ]
  },
  {
   "cell_type": "markdown",
   "metadata": {},
   "source": [
    "#### 25. Create a Github account and upload your solution with the short write-up on Numpy"
   ]
  },
  {
   "cell_type": "code",
   "execution_count": 21,
   "metadata": {},
   "outputs": [
    {
     "data": {
      "text/plain": [
       "array([ 9.00000000e+00,  6.00000000e+00,  5.66666667e+00, ...,\n",
       "       -1.15893675e+04, -1.15871743e+04, -1.15849812e+04])"
      ]
     },
     "execution_count": 21,
     "metadata": {},
     "output_type": "execute_result"
    }
   ],
   "source": [
    "\n",
    "res"
   ]
  },
  {
   "cell_type": "code",
   "execution_count": null,
   "metadata": {},
   "outputs": [],
   "source": []
  }
 ],
 "metadata": {
  "kernelspec": {
   "display_name": "Python 3",
   "language": "python",
   "name": "python3"
  },
  "language_info": {
   "codemirror_mode": {
    "name": "ipython",
    "version": 3
   },
   "file_extension": ".py",
   "mimetype": "text/x-python",
   "name": "python",
   "nbconvert_exporter": "python",
   "pygments_lexer": "ipython3",
   "version": "3.8.8"
  }
 },
 "nbformat": 4,
 "nbformat_minor": 2
}
